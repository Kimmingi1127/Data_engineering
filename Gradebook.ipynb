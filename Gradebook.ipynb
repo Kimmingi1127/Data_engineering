{
 "cells": [
  {
   "cell_type": "code",
   "execution_count": 21,
   "id": "a7cdfef8-60d8-4803-982f-40c94bfd03e1",
   "metadata": {},
   "outputs": [],
   "source": [
    "subjects = [\"physics\", \"calculus\", \"poetry\", \"history\"]\n",
    "grades = [98, 97, 85, 88]"
   ]
  },
  {
   "cell_type": "code",
   "execution_count": 22,
   "id": "260e75c1-ef94-483b-9bc4-d715ff7e988e",
   "metadata": {},
   "outputs": [],
   "source": [
    "gradebook = []\n",
    "for i in range(len(subjects)):\n",
    "    gradebook.append([subjects[i], grades[i]])"
   ]
  },
  {
   "cell_type": "code",
   "execution_count": 23,
   "id": "c6566956-c07c-4978-855f-a3a41e03510c",
   "metadata": {},
   "outputs": [
    {
     "name": "stdout",
     "output_type": "stream",
     "text": [
      "[['physics', 98], ['calculus', 97], ['poetry', 85], ['history', 88]]\n"
     ]
    }
   ],
   "source": [
    "print(gradebook)"
   ]
  },
  {
   "cell_type": "code",
   "execution_count": 24,
   "id": "90748cb5-52bb-4f6d-8d69-db83254fc90d",
   "metadata": {},
   "outputs": [
    {
     "name": "stdout",
     "output_type": "stream",
     "text": [
      "[['physics', 98], ['calculus', 97], ['poetry', 85], ['history', 88], ['computer science', 100], ['visual arts', 93]]\n"
     ]
    }
   ],
   "source": [
    "gradebook.append([\"computer science\", 100])\n",
    "gradebook.append([\"visual arts\", 93])\n",
    "print(gradebook)"
   ]
  },
  {
   "cell_type": "code",
   "execution_count": 25,
   "id": "4e839562-a1e6-4f28-8eb3-65ed0823ebd2",
   "metadata": {},
   "outputs": [],
   "source": [
    "for item in gradebook:\n",
    "    if item[0] == \"visual arts\":\n",
    "        item[1] += 5 "
   ]
  },
  {
   "cell_type": "code",
   "execution_count": 26,
   "id": "c6b7a14b-b519-4c73-bffb-c375afb88af2",
   "metadata": {},
   "outputs": [],
   "source": [
    "for item in gradebook:\n",
    "    if item[0] == \"poetry\":\n",
    "        gradebook.remove(item)\n",
    "        gradebook.append([\"poetry\", \"Pass\"])"
   ]
  },
  {
   "cell_type": "code",
   "execution_count": 27,
   "id": "9b28d0d8-983e-44f5-bfa6-f9c281194ef4",
   "metadata": {},
   "outputs": [
    {
     "name": "stdout",
     "output_type": "stream",
     "text": [
      "[['physics', 98], ['calculus', 97], ['history', 88], ['computer science', 100], ['visual arts', 98], ['poetry', 'Pass']]\n"
     ]
    }
   ],
   "source": [
    "print(gradebook)"
   ]
  },
  {
   "cell_type": "code",
   "execution_count": 28,
   "id": "a8e15d6f-5982-4a32-bd93-2644198aaced",
   "metadata": {},
   "outputs": [],
   "source": [
    "last_semester_gradebook = [[\"politics\", 80], [\"latin\", 96], [\"dance\", 97], [\"architecture\", 65]]\n",
    "full_gradebook = last_semester_gradebook + gradebook"
   ]
  },
  {
   "cell_type": "code",
   "execution_count": 29,
   "id": "f93e4052-e196-4d61-a3f2-150ca66e35de",
   "metadata": {},
   "outputs": [
    {
     "name": "stdout",
     "output_type": "stream",
     "text": [
      "[['politics', 80], ['latin', 96], ['dance', 97], ['architecture', 65], ['physics', 98], ['calculus', 97], ['history', 88], ['computer science', 100], ['visual arts', 98], ['poetry', 'Pass']]\n"
     ]
    }
   ],
   "source": [
    "print(full_gradebook)"
   ]
  }
 ],
 "metadata": {
  "kernelspec": {
   "display_name": "Python 3 (ipykernel)",
   "language": "python",
   "name": "python3"
  },
  "language_info": {
   "codemirror_mode": {
    "name": "ipython",
    "version": 3
   },
   "file_extension": ".py",
   "mimetype": "text/x-python",
   "name": "python",
   "nbconvert_exporter": "python",
   "pygments_lexer": "ipython3",
   "version": "3.10.9"
  }
 },
 "nbformat": 4,
 "nbformat_minor": 5
}
