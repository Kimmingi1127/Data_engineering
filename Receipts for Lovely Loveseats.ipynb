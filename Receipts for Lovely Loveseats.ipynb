{
 "cells": [
  {
   "cell_type": "code",
   "execution_count": 1,
   "id": "748cb57b-7779-47f2-ac76-4946c4f925c6",
   "metadata": {},
   "outputs": [],
   "source": [
    "lovely_loveseat_description = \"Lovely Loveseat. Tufted polyester blend on wood. 32 inches high x 40 inches wide x 30 inches deep. Red or white.\"\n",
    "lovely_loveseat_price = 254.00"
   ]
  },
  {
   "cell_type": "code",
   "execution_count": 2,
   "id": "3fdca26d-3f89-4ec1-91f8-769b02a179ee",
   "metadata": {},
   "outputs": [],
   "source": [
    "stylish_settee_description = \"Stylish Settee. Faux leather on birch. 29.50 inches high x 54.75 inches wide x 28 inches deep. Black.\"\n",
    "stylish_settee_price = 180.50"
   ]
  },
  {
   "cell_type": "code",
   "execution_count": 3,
   "id": "6c6c021c-955b-45ca-a1a5-5e9218669178",
   "metadata": {},
   "outputs": [],
   "source": [
    "luxurious_lamp_description = \"Luxurious Lamp. Glass and iron. 36 inches tall. Brown with cream shade.\"\n",
    "luxurious_lamp_price = 52.15"
   ]
  },
  {
   "cell_type": "code",
   "execution_count": 4,
   "id": "8f59dfa5-5dc4-4fa5-8f7b-53f9973d7156",
   "metadata": {},
   "outputs": [],
   "source": [
    "sales_tax = 0.088  # 8.8%"
   ]
  },
  {
   "cell_type": "code",
   "execution_count": 5,
   "id": "fd69c2bc-bfcc-49c9-836f-f5bdce75ad2f",
   "metadata": {},
   "outputs": [],
   "source": [
    "# Our First Customer\n",
    "customer_one_total = 0\n",
    "customer_one_itemization = \"\""
   ]
  },
  {
   "cell_type": "code",
   "execution_count": 6,
   "id": "62b9dcb8-a26a-4071-99bf-8a14b6840407",
   "metadata": {},
   "outputs": [],
   "source": [
    "# Customer One is purchasing the Lovely Loveseat\n",
    "customer_one_total += lovely_loveseat_price\n",
    "customer_one_itemization += lovely_loveseat_description"
   ]
  },
  {
   "cell_type": "code",
   "execution_count": 7,
   "id": "6dfac13d-acc6-4076-80c0-a5f63607db73",
   "metadata": {},
   "outputs": [],
   "source": [
    "# Customer One is also purchasing the Luxurious Lamp\n",
    "customer_one_total += luxurious_lamp_price\n",
    "customer_one_itemization += luxurious_lamp_description"
   ]
  },
  {
   "cell_type": "code",
   "execution_count": 8,
   "id": "02d8b827-81f8-4ea5-a9d3-30ec7335fafb",
   "metadata": {},
   "outputs": [],
   "source": [
    "# Calculate sales tax for Customer One\n",
    "customer_one_tax = customer_one_total * sales_tax"
   ]
  },
  {
   "cell_type": "code",
   "execution_count": 9,
   "id": "dad09978-9ce1-4925-afbf-408af69c6b57",
   "metadata": {},
   "outputs": [],
   "source": [
    "# Add sales tax to the total cost for Customer One\n",
    "customer_one_total += customer_one_tax"
   ]
  },
  {
   "cell_type": "code",
   "execution_count": 10,
   "id": "c7997cc6-675e-4188-88d5-4457e4af6b7a",
   "metadata": {},
   "outputs": [
    {
     "name": "stdout",
     "output_type": "stream",
     "text": [
      "Customer One Items:\n",
      "Lovely Loveseat. Tufted polyester blend on wood. 32 inches high x 40 inches wide x 30 inches deep. Red or white.Luxurious Lamp. Glass and iron. 36 inches tall. Brown with cream shade.\n",
      "Customer One Total:\n",
      "333.09119999999996\n"
     ]
    }
   ],
   "source": [
    "# Print the receipt for Customer One\n",
    "print(\"Customer One Items:\")\n",
    "print(customer_one_itemization)\n",
    "print(\"Customer One Total:\")\n",
    "print(customer_one_total)"
   ]
  }
 ],
 "metadata": {
  "kernelspec": {
   "display_name": "Python 3 (ipykernel)",
   "language": "python",
   "name": "python3"
  },
  "language_info": {
   "codemirror_mode": {
    "name": "ipython",
    "version": 3
   },
   "file_extension": ".py",
   "mimetype": "text/x-python",
   "name": "python",
   "nbconvert_exporter": "python",
   "pygments_lexer": "ipython3",
   "version": "3.10.9"
  }
 },
 "nbformat": 4,
 "nbformat_minor": 5
}
